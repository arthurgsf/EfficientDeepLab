{
 "cells": [
  {
   "cell_type": "code",
   "execution_count": 1,
   "metadata": {},
   "outputs": [
    {
     "name": "stderr",
     "output_type": "stream",
     "text": [
      "2024-05-03 17:11:06.884368: I tensorflow/core/platform/cpu_feature_guard.cc:193] This TensorFlow binary is optimized with oneAPI Deep Neural Network Library (oneDNN) to use the following CPU instructions in performance-critical operations:  AVX2 FMA\n",
      "To enable them in other operations, rebuild TensorFlow with the appropriate compiler flags.\n",
      "2024-05-03 17:11:07.627959: W tensorflow/compiler/xla/stream_executor/platform/default/dso_loader.cc:64] Could not load dynamic library 'libnvinfer.so.7'; dlerror: libnvinfer.so.7: cannot open shared object file: No such file or directory; LD_LIBRARY_PATH: /usr/local/cuda-11.4/lib64:\n",
      "2024-05-03 17:11:07.628013: W tensorflow/compiler/xla/stream_executor/platform/default/dso_loader.cc:64] Could not load dynamic library 'libnvinfer_plugin.so.7'; dlerror: libnvinfer_plugin.so.7: cannot open shared object file: No such file or directory; LD_LIBRARY_PATH: /usr/local/cuda-11.4/lib64:\n",
      "2024-05-03 17:11:07.628020: W tensorflow/compiler/tf2tensorrt/utils/py_utils.cc:38] TF-TRT Warning: Cannot dlopen some TensorRT libraries. If you would like to use Nvidia GPU with TensorRT, please make sure the missing libraries mentioned above are installed properly.\n"
     ]
    },
    {
     "name": "stdout",
     "output_type": "stream",
     "text": [
      "Segmentation Models: using `keras` framework.\n"
     ]
    },
    {
     "name": "stderr",
     "output_type": "stream",
     "text": [
      "2024-05-03 17:11:08.447043: I tensorflow/compiler/xla/stream_executor/cuda/cuda_gpu_executor.cc:981] successful NUMA node read from SysFS had negative value (-1), but there must be at least one NUMA node, so returning NUMA node zero\n",
      "2024-05-03 17:11:08.452997: I tensorflow/compiler/xla/stream_executor/cuda/cuda_gpu_executor.cc:981] successful NUMA node read from SysFS had negative value (-1), but there must be at least one NUMA node, so returning NUMA node zero\n",
      "2024-05-03 17:11:08.453201: I tensorflow/compiler/xla/stream_executor/cuda/cuda_gpu_executor.cc:981] successful NUMA node read from SysFS had negative value (-1), but there must be at least one NUMA node, so returning NUMA node zero\n",
      "2024-05-03 17:11:08.453605: I tensorflow/core/platform/cpu_feature_guard.cc:193] This TensorFlow binary is optimized with oneAPI Deep Neural Network Library (oneDNN) to use the following CPU instructions in performance-critical operations:  AVX2 FMA\n",
      "To enable them in other operations, rebuild TensorFlow with the appropriate compiler flags.\n",
      "2024-05-03 17:11:08.454046: I tensorflow/compiler/xla/stream_executor/cuda/cuda_gpu_executor.cc:981] successful NUMA node read from SysFS had negative value (-1), but there must be at least one NUMA node, so returning NUMA node zero\n",
      "2024-05-03 17:11:08.454223: I tensorflow/compiler/xla/stream_executor/cuda/cuda_gpu_executor.cc:981] successful NUMA node read from SysFS had negative value (-1), but there must be at least one NUMA node, so returning NUMA node zero\n",
      "2024-05-03 17:11:08.454381: I tensorflow/compiler/xla/stream_executor/cuda/cuda_gpu_executor.cc:981] successful NUMA node read from SysFS had negative value (-1), but there must be at least one NUMA node, so returning NUMA node zero\n",
      "2024-05-03 17:11:09.504553: I tensorflow/compiler/xla/stream_executor/cuda/cuda_gpu_executor.cc:981] successful NUMA node read from SysFS had negative value (-1), but there must be at least one NUMA node, so returning NUMA node zero\n",
      "2024-05-03 17:11:09.504768: I tensorflow/compiler/xla/stream_executor/cuda/cuda_gpu_executor.cc:981] successful NUMA node read from SysFS had negative value (-1), but there must be at least one NUMA node, so returning NUMA node zero\n",
      "2024-05-03 17:11:09.504933: I tensorflow/compiler/xla/stream_executor/cuda/cuda_gpu_executor.cc:981] successful NUMA node read from SysFS had negative value (-1), but there must be at least one NUMA node, so returning NUMA node zero\n",
      "2024-05-03 17:11:09.505077: I tensorflow/core/common_runtime/gpu/gpu_device.cc:1613] Created device /job:localhost/replica:0/task:0/device:GPU:0 with 5 MB memory:  -> device: 0, name: NVIDIA GeForce RTX 3060, pci bus id: 0000:01:00.0, compute capability: 8.6\n",
      "2024-05-03 17:11:09.518531: I tensorflow/compiler/xla/stream_executor/cuda/cuda_driver.cc:735] failed to allocate 5.88M (6160384 bytes) from device: CUDA_ERROR_OUT_OF_MEMORY: out of memory\n",
      "2024-05-03 17:11:09.519264: I tensorflow/compiler/xla/stream_executor/cuda/cuda_driver.cc:735] failed to allocate 5.29M (5544448 bytes) from device: CUDA_ERROR_OUT_OF_MEMORY: out of memory\n",
      "2024-05-03 17:11:09.519981: I tensorflow/compiler/xla/stream_executor/cuda/cuda_driver.cc:735] failed to allocate 4.76M (4990208 bytes) from device: CUDA_ERROR_OUT_OF_MEMORY: out of memory\n",
      "2024-05-03 17:11:09.520693: I tensorflow/compiler/xla/stream_executor/cuda/cuda_driver.cc:735] failed to allocate 4.28M (4491264 bytes) from device: CUDA_ERROR_OUT_OF_MEMORY: out of memory\n",
      "2024-05-03 17:11:09.521490: I tensorflow/compiler/xla/stream_executor/cuda/cuda_driver.cc:735] failed to allocate 3.85M (4042240 bytes) from device: CUDA_ERROR_OUT_OF_MEMORY: out of memory\n",
      "2024-05-03 17:11:09.522297: I tensorflow/compiler/xla/stream_executor/cuda/cuda_driver.cc:735] failed to allocate 3.47M (3638016 bytes) from device: CUDA_ERROR_OUT_OF_MEMORY: out of memory\n",
      "2024-05-03 17:11:09.523108: I tensorflow/compiler/xla/stream_executor/cuda/cuda_driver.cc:735] failed to allocate 3.12M (3274240 bytes) from device: CUDA_ERROR_OUT_OF_MEMORY: out of memory\n",
      "2024-05-03 17:11:09.523907: I tensorflow/compiler/xla/stream_executor/cuda/cuda_driver.cc:735] failed to allocate 2.81M (2946816 bytes) from device: CUDA_ERROR_OUT_OF_MEMORY: out of memory\n",
      "2024-05-03 17:11:09.524701: I tensorflow/compiler/xla/stream_executor/cuda/cuda_driver.cc:735] failed to allocate 2.53M (2652160 bytes) from device: CUDA_ERROR_OUT_OF_MEMORY: out of memory\n",
      "2024-05-03 17:11:09.525498: I tensorflow/compiler/xla/stream_executor/cuda/cuda_driver.cc:735] failed to allocate 2.28M (2386944 bytes) from device: CUDA_ERROR_OUT_OF_MEMORY: out of memory\n",
      "2024-05-03 17:11:09.526294: I tensorflow/compiler/xla/stream_executor/cuda/cuda_driver.cc:735] failed to allocate 2.05M (2148352 bytes) from device: CUDA_ERROR_OUT_OF_MEMORY: out of memory\n"
     ]
    },
    {
     "name": "stdout",
     "output_type": "stream",
     "text": [
      "26 7 7\n",
      "27 6 7\n",
      "27 6 7\n"
     ]
    }
   ],
   "source": [
    "import config as cfg\n",
    "from test import test\n",
    "from train import train\n",
    "from utils import kfold\n",
    "from models.efficientdeeplab import Backbones\n",
    "\n",
    "\n",
    "\n",
    "for (train_patients, val_patients, test_patients) in kfold(cfg.DATASET_PATH):\n",
    "    print(len(train_patients), len(val_patients), len(test_patients))\n",
    "    # model, checkpoint_path = train(train_patients, val_patients, Backbones.B0, i = i)\n",
    "    # test(model, test_patients, checkpoint_path, i = i)\n",
    "    # break"
   ]
  },
  {
   "cell_type": "code",
   "execution_count": null,
   "metadata": {},
   "outputs": [],
   "source": [
    "# ===== TEST ===== #\n",
    "from generators import PatientWiseGenerator\n",
    "import tensorflow as tf\n",
    "import numpy as np\n",
    "from postprocessing import biggest_3D_object\n",
    "import utils\n",
    "\n",
    "model.load_weights(f\"{checkpoint_path}/{model.name}\")\n",
    "\n",
    "metrics = {\n",
    "    \"dice\":[],\n",
    "    \"precision\":[],\n",
    "    \"recall\":[],\n",
    "    \"iou_score\":[],\n",
    "}\n",
    "\n",
    "metrics_post_processed = {\n",
    "    \"dice\":[],\n",
    "    \"precision\":[],\n",
    "    \"recall\":[],\n",
    "    \"iou_score\":[],\n",
    "}\n",
    "\n",
    "for patient in test_patients:\n",
    "    generator = PatientWiseGenerator(patient, cfg.N_CLASSES)\n",
    "    patient_dataset = tf.data.Dataset.from_generator(\n",
    "        generator,\n",
    "        output_signature=\n",
    "        (\n",
    "            tf.TensorSpec(shape=cfg.IMAGE_SHAPE + (cfg.N_CHANNELS,)),\n",
    "            tf.TensorSpec(shape=cfg.IMAGE_SHAPE + (cfg.N_CLASSES,))\n",
    "        )\n",
    "    )\n",
    "    \n",
    "    volume_true = []\n",
    "    for (x, y) in patient_dataset:\n",
    "        volume_true.append(y)\n",
    "    volume_true = np.squeeze(np.array(volume_true))\n",
    "\n",
    "    volume_pred = model.predict(patient_dataset.batch(5), verbose=0)\n",
    "    volume_pred = np.round(volume_pred)\n",
    "    volume_pred = np.squeeze(volume_pred)\n",
    "    \n",
    "    metrics[\"dice\"].append(cfg.f_score(volume_true, volume_pred))\n",
    "    metrics[\"precision\"].append(cfg.precision_score(volume_true, volume_pred))\n",
    "    metrics[\"recall\"].append(cfg.recall_score(volume_true, volume_pred))\n",
    "    metrics[\"iou_score\"].append(cfg.iou_score(volume_true, volume_pred))\n",
    "\n",
    "    # post process each channel\n",
    "    volume_post_processed = biggest_3D_object(volume_pred)\n",
    "    \n",
    "    metrics_post_processed[\"dice\"].append(cfg.f_score(volume_true, volume_post_processed))\n",
    "    metrics_post_processed[\"precision\"].append(cfg.precision_score(volume_true, volume_post_processed))\n",
    "    metrics_post_processed[\"recall\"].append(cfg.recall_score(volume_true, volume_post_processed))\n",
    "    metrics_post_processed[\"iou_score\"].append(cfg.iou_score(volume_true, volume_post_processed))\n",
    "\n",
    "output_folder = f\"output/{model.name}_{i}\"\n",
    "utils.store_test_metrics(metrics, output_folder, \"test_metrics\")\n",
    "utils.store_test_metrics(metrics_post_processed, output_folder, \"test_metrics_post_processing\")"
   ]
  }
 ],
 "metadata": {
  "kernelspec": {
   "display_name": "arthur",
   "language": "python",
   "name": "python3"
  },
  "language_info": {
   "codemirror_mode": {
    "name": "ipython",
    "version": 3
   },
   "file_extension": ".py",
   "mimetype": "text/x-python",
   "name": "python",
   "nbconvert_exporter": "python",
   "pygments_lexer": "ipython3",
   "version": "3.10.13"
  }
 },
 "nbformat": 4,
 "nbformat_minor": 2
}
